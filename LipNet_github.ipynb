{
 "cells": [
  {
   "cell_type": "markdown",
   "metadata": {},
   "source": [
    "# 0. Handle packages and stuff for work"
   ]
  },
  {
   "cell_type": "markdown",
   "metadata": {},
   "source": [
    "### IMPORTANT !!!\n",
    "\n",
    "install opencv-python matplotlib imageio gdown tensorflow\n",
    "BUT make sure you have EXACTLY THE SAME VERSION as I have. As well as Numpy, Matplotlib and Pillow\n",
    "\n",
    "Package                      Version\n",
    "---------------------------- ---------\n",
    "absl-py                      2.0.0\n",
    "appnope                      0.1.3\n",
    "asttokens                    2.4.0\n",
    "astunparse                   1.6.3\n",
    "backcall                     0.2.0\n",
    "beautifulsoup4               4.12.2\n",
    "cachetools                   5.3.1\n",
    "certifi                      2023.7.22\n",
    "charset-normalizer           3.3.0\n",
    "comm                         0.1.4\n",
    "contourpy                    1.1.1\n",
    "cycler                       0.12.1\n",
    "debugpy                      1.8.0\n",
    "decorator                    5.1.1\n",
    "exceptiongroup               1.1.3\n",
    "executing                    2.0.0\n",
    "filelock                     3.12.4\n",
    "flatbuffers                  23.5.26\n",
    "fonttools                    4.43.1\n",
    "gast                         0.4.0\n",
    "gdown                        4.7.1\n",
    "google-auth                  2.23.3\n",
    "google-auth-oauthlib         0.4.6\n",
    "google-pasta                 0.2.0\n",
    "grpcio                       1.59.0\n",
    "h5py                         3.10.0\n",
    "idna                         3.4\n",
    "imageio                      2.23.0\n",
    "importlib-metadata           6.8.0\n",
    "importlib-resources          6.1.0\n",
    "ipykernel                    6.25.2\n",
    "ipython                      8.16.1\n",
    "jedi                         0.19.1\n",
    "jupyter_client               8.4.0\n",
    "jupyter_core                 5.4.0\n",
    "keras                        2.10.0\n",
    "Keras-Preprocessing          1.1.2\n",
    "kiwisolver                   1.4.5\n",
    "libclang                     16.0.6\n",
    "Markdown                     3.5\n",
    "MarkupSafe                   2.1.3\n",
    "matplotlib                   3.6.2\n",
    "matplotlib-inline            0.1.6\n",
    "ml-dtypes                    0.2.0\n",
    "nest-asyncio                 1.5.8\n",
    "numpy                        1.26.1\n",
    "oauthlib                     3.2.2\n",
    "opencv-python                4.6.0.66\n",
    "opt-einsum                   3.3.0\n",
    "packaging                    23.2\n",
    "parso                        0.8.3\n",
    "pexpect                      4.8.0\n",
    "pickleshare                  0.7.5\n",
    "Pillow                       9.3.0\n",
    "pip                          23.3\n",
    "platformdirs                 3.11.0\n",
    "prompt-toolkit               3.0.39\n",
    "protobuf                     3.19.6\n",
    "psutil                       5.9.6\n",
    "ptyprocess                   0.7.0\n",
    "pure-eval                    0.2.2\n",
    "pyasn1                       0.5.0\n",
    "pyasn1-modules               0.3.0\n",
    "Pygments                     2.16.1\n",
    "pyparsing                    3.1.1\n",
    "PySocks                      1.7.1\n",
    "python-dateutil              2.8.2\n",
    "pyzmq                        25.1.1\n",
    "requests                     2.31.0\n",
    "requests-oauthlib            1.3.1\n",
    "rsa                          4.9\n",
    "setuptools                   56.0.0\n",
    "six                          1.16.0\n",
    "soupsieve                    2.5\n",
    "stack-data                   0.6.3\n",
    "tensorboard                  2.10.1\n",
    "tensorboard-data-server      0.6.1\n",
    "tensorboard-plugin-wit       1.8.1\n",
    "tensorflow                   2.10.1\n",
    "tensorflow-estimator         2.10.0\n",
    "tensorflow-io-gcs-filesystem 0.34.0\n",
    "termcolor                    2.3.0\n",
    "tornado                      6.3.3\n",
    "tqdm                         4.66.1\n",
    "traitlets                    5.11.2\n",
    "typing_extensions            4.8.0\n",
    "urllib3                      2.0.7\n",
    "wcwidth                      0.2.8\n",
    "Werkzeug                     3.0.0\n",
    "wheel                        0.41.2\n",
    "wrapt                        1.14.1\n",
    "zipp                         3.17.0"
   ]
  },
  {
   "cell_type": "code",
   "execution_count": 1,
   "metadata": {},
   "outputs": [
    {
     "name": "stdout",
     "output_type": "stream",
     "text": [
      "Package                      Version\n",
      "---------------------------- ---------\n",
      "absl-py                      2.0.0\n",
      "appnope                      0.1.3\n",
      "asttokens                    2.4.0\n",
      "astunparse                   1.6.3\n",
      "backcall                     0.2.0\n",
      "beautifulsoup4               4.12.2\n",
      "cachetools                   5.3.1\n",
      "certifi                      2023.7.22\n",
      "charset-normalizer           3.3.0\n",
      "comm                         0.1.4\n",
      "contourpy                    1.1.1\n",
      "cycler                       0.12.1\n",
      "debugpy                      1.8.0\n",
      "decorator                    5.1.1\n",
      "exceptiongroup               1.1.3\n",
      "executing                    2.0.0\n",
      "filelock                     3.12.4\n",
      "flatbuffers                  23.5.26\n",
      "fonttools                    4.43.1\n",
      "gast                         0.4.0\n",
      "gdown                        4.7.1\n",
      "google-auth                  2.23.3\n",
      "google-auth-oauthlib         0.4.6\n",
      "google-pasta                 0.2.0\n",
      "grpcio                       1.59.0\n",
      "h5py                         3.10.0\n",
      "idna                         3.4\n",
      "imageio                      2.23.0\n",
      "importlib-metadata           6.8.0\n",
      "importlib-resources          6.1.0\n",
      "ipykernel                    6.25.2\n",
      "ipython                      8.16.1\n",
      "jedi                         0.19.1\n",
      "jupyter_client               8.4.0\n",
      "jupyter_core                 5.4.0\n",
      "keras                        2.10.0\n",
      "Keras-Preprocessing          1.1.2\n",
      "kiwisolver                   1.4.5\n",
      "libclang                     16.0.6\n",
      "Markdown                     3.5\n",
      "MarkupSafe                   2.1.3\n",
      "matplotlib                   3.6.2\n",
      "matplotlib-inline            0.1.6\n",
      "ml-dtypes                    0.2.0\n",
      "nest-asyncio                 1.5.8\n",
      "numpy                        1.26.1\n",
      "oauthlib                     3.2.2\n",
      "opencv-python                4.6.0.66\n",
      "opt-einsum                   3.3.0\n",
      "packaging                    23.2\n",
      "parso                        0.8.3\n",
      "pexpect                      4.8.0\n",
      "pickleshare                  0.7.5\n",
      "Pillow                       9.3.0\n",
      "pip                          23.3\n",
      "platformdirs                 3.11.0\n",
      "prompt-toolkit               3.0.39\n",
      "protobuf                     3.19.6\n",
      "psutil                       5.9.6\n",
      "ptyprocess                   0.7.0\n",
      "pure-eval                    0.2.2\n",
      "pyasn1                       0.5.0\n",
      "pyasn1-modules               0.3.0\n",
      "Pygments                     2.16.1\n",
      "pyparsing                    3.1.1\n",
      "PySocks                      1.7.1\n",
      "python-dateutil              2.8.2\n",
      "pyzmq                        25.1.1\n",
      "requests                     2.31.0\n",
      "requests-oauthlib            1.3.1\n",
      "rsa                          4.9\n",
      "setuptools                   56.0.0\n",
      "six                          1.16.0\n",
      "soupsieve                    2.5\n",
      "stack-data                   0.6.3\n",
      "tensorboard                  2.10.1\n",
      "tensorboard-data-server      0.6.1\n",
      "tensorboard-plugin-wit       1.8.1\n",
      "tensorflow                   2.10.1\n",
      "tensorflow-estimator         2.10.0\n",
      "tensorflow-io-gcs-filesystem 0.34.0\n",
      "termcolor                    2.3.0\n",
      "tornado                      6.3.3\n",
      "tqdm                         4.66.1\n",
      "traitlets                    5.11.2\n",
      "typing_extensions            4.8.0\n",
      "urllib3                      2.0.7\n",
      "wcwidth                      0.2.8\n",
      "Werkzeug                     3.0.0\n",
      "wheel                        0.41.2\n",
      "wrapt                        1.14.1\n",
      "zipp                         3.17.0\n",
      "\u001b[33mWARNING: There was an error checking the latest version of pip.\u001b[0m\u001b[33m\n",
      "\u001b[0mNote: you may need to restart the kernel to use updated packages.\n"
     ]
    }
   ],
   "source": [
    "pip list"
   ]
  },
  {
   "cell_type": "code",
   "execution_count": 2,
   "metadata": {},
   "outputs": [
    {
     "name": "stderr",
     "output_type": "stream",
     "text": [
      "2023-10-24 21:06:39.775661: I tensorflow/core/platform/cpu_feature_guard.cc:193] This TensorFlow binary is optimized with oneAPI Deep Neural Network Library (oneDNN) to use the following CPU instructions in performance-critical operations:  AVX2 FMA\n",
      "To enable them in other operations, rebuild TensorFlow with the appropriate compiler flags.\n"
     ]
    }
   ],
   "source": [
    "import os\n",
    "import cv2\n",
    "import tensorflow as tf\n",
    "import numpy as np\n",
    "from typing import List\n",
    "from matplotlib import pyplot as plt\n",
    "import imageio"
   ]
  },
  {
   "cell_type": "code",
   "execution_count": 3,
   "metadata": {},
   "outputs": [
    {
     "data": {
      "text/plain": [
       "[]"
      ]
     },
     "execution_count": 3,
     "metadata": {},
     "output_type": "execute_result"
    }
   ],
   "source": [
    "tf.config.list_physical_devices('GPU')"
   ]
  },
  {
   "cell_type": "code",
   "execution_count": 4,
   "metadata": {},
   "outputs": [],
   "source": [
    "pysical_devices = tf.config.list_physical_devices('GPU')\n",
    "try:\n",
    "    tf.config.experimental.set_memory_growth(pysical_devices[0], True)\n",
    "except:\n",
    "    pass"
   ]
  },
  {
   "cell_type": "markdown",
   "metadata": {},
   "source": [
    "# 1. Buil Data Loading Functions"
   ]
  },
  {
   "cell_type": "code",
   "execution_count": 5,
   "metadata": {},
   "outputs": [],
   "source": [
    "import gdown"
   ]
  },
  {
   "cell_type": "code",
   "execution_count": 6,
   "metadata": {},
   "outputs": [],
   "source": [
    "# url = \"https://drive.google.com/uc?id=1YlvpDLix3S-U8fd-gqRwPcWXAXm8JwjL\"\n",
    "# output = \"data.zip\"\n",
    "# gdown.download(url, output, quiet=False)\n",
    "# gdown.extractall(\"data.zip\")"
   ]
  },
  {
   "cell_type": "code",
   "execution_count": 7,
   "metadata": {},
   "outputs": [],
   "source": [
    "def load_video(path:str) -> List[float]:\n",
    "    \"\"\"\n",
    "    This function opens a video, reads its frames, applies image processing,\n",
    "    and performs statistical normalization before returning the processed frames\n",
    "    \"\"\"\n",
    "\n",
    "    cap = cv2.VideoCapture(path)\n",
    "    frames = []\n",
    "    # This loop iterates through all frames in the video.\n",
    "    # The number of frames is determined using cap.get(cv2.CAP_PROP_FRAME_COUNT), and then the loop is executed accordingly\n",
    "    for _ in range(int(cap.get(cv2.CAP_PROP_FRAME_COUNT))):\n",
    "        ret, frame = cap.read()\n",
    "        # The frame is converted to grayscale to remove color information and reduce the data volume\n",
    "        frame = tf.image.rgb_to_grayscale(frame)\n",
    "        frames.append(frame[190:236,80:220,:])\n",
    "    cap.release()\n",
    "\n",
    "    mean = tf.math.reduce_mean(frames)\n",
    "    std = tf.math.reduce_std(tf.cast(frames, tf.float32))\n",
    "\n",
    "    return tf.cast((frames - mean), tf.float32) / std"
   ]
  },
  {
   "cell_type": "code",
   "execution_count": 8,
   "metadata": {},
   "outputs": [],
   "source": [
    "vocab = [x for x in \"abcdefghijklmnopqrstuvwxyz'?!123456789 \"]"
   ]
  },
  {
   "cell_type": "code",
   "execution_count": 9,
   "metadata": {},
   "outputs": [
    {
     "data": {
      "text/plain": [
       "['a',\n",
       " 'b',\n",
       " 'c',\n",
       " 'd',\n",
       " 'e',\n",
       " 'f',\n",
       " 'g',\n",
       " 'h',\n",
       " 'i',\n",
       " 'j',\n",
       " 'k',\n",
       " 'l',\n",
       " 'm',\n",
       " 'n',\n",
       " 'o',\n",
       " 'p',\n",
       " 'q',\n",
       " 'r',\n",
       " 's',\n",
       " 't',\n",
       " 'u',\n",
       " 'v',\n",
       " 'w',\n",
       " 'x',\n",
       " 'y',\n",
       " 'z',\n",
       " \"'\",\n",
       " '?',\n",
       " '!',\n",
       " '1',\n",
       " '2',\n",
       " '3',\n",
       " '4',\n",
       " '5',\n",
       " '6',\n",
       " '7',\n",
       " '8',\n",
       " '9',\n",
       " ' ']"
      ]
     },
     "execution_count": 9,
     "metadata": {},
     "output_type": "execute_result"
    }
   ],
   "source": [
    "vocab"
   ]
  },
  {
   "cell_type": "code",
   "execution_count": 10,
   "metadata": {},
   "outputs": [
    {
     "name": "stdout",
     "output_type": "stream",
     "text": [
      "The vocabulary is: ['', 'a', 'b', 'c', 'd', 'e', 'f', 'g', 'h', 'i', 'j', 'k', 'l', 'm', 'n', 'o', 'p', 'q', 'r', 's', 't', 'u', 'v', 'w', 'x', 'y', 'z', \"'\", '?', '!', '1', '2', '3', '4', '5', '6', '7', '8', '9', ' '](size = 40)\n"
     ]
    },
    {
     "name": "stderr",
     "output_type": "stream",
     "text": [
      "2023-10-24 21:06:56.481502: I tensorflow/core/platform/cpu_feature_guard.cc:193] This TensorFlow binary is optimized with oneAPI Deep Neural Network Library (oneDNN) to use the following CPU instructions in performance-critical operations:  AVX2 FMA\n",
      "To enable them in other operations, rebuild TensorFlow with the appropriate compiler flags.\n"
     ]
    }
   ],
   "source": [
    "char_to_num = tf.keras.layers.StringLookup(vocabulary=vocab, oov_token=\"\")\n",
    "num_to_char = tf.keras.layers.StringLookup(\n",
    "    vocabulary=char_to_num.get_vocabulary(), oov_token=\"\", invert=True\n",
    ")\n",
    "\n",
    "print(\n",
    "    f\"The vocabulary is: {char_to_num.get_vocabulary()}\"\n",
    "    f\"(size = {char_to_num.vocabulary_size()})\"\n",
    ")"
   ]
  },
  {
   "cell_type": "code",
   "execution_count": 11,
   "metadata": {},
   "outputs": [
    {
     "data": {
      "text/plain": [
       "<tf.Tensor: shape=(6,), dtype=int64, numpy=array([20, 15,  2,  9,  1, 19])>"
      ]
     },
     "execution_count": 11,
     "metadata": {},
     "output_type": "execute_result"
    }
   ],
   "source": [
    "char_to_num(['t', 'o', 'b', 'i', 'a', 's'])"
   ]
  },
  {
   "cell_type": "code",
   "execution_count": 12,
   "metadata": {},
   "outputs": [
    {
     "data": {
      "text/plain": [
       "<tf.Tensor: shape=(6,), dtype=string, numpy=array([b't', b'o', b'b', b'i', b'a', b's'], dtype=object)>"
      ]
     },
     "execution_count": 12,
     "metadata": {},
     "output_type": "execute_result"
    }
   ],
   "source": [
    "num_to_char([20, 15, 2, 9, 1, 19])"
   ]
  },
  {
   "cell_type": "code",
   "execution_count": 13,
   "metadata": {},
   "outputs": [],
   "source": [
    "def load_alignments(path:str) -> List[str]: \n",
    "    with open(path, 'r') as f: \n",
    "        lines = f.readlines() \n",
    "    tokens = []\n",
    "    for line in lines:\n",
    "        line = line.split()\n",
    "        if line[2] != 'sil': \n",
    "            tokens = [*tokens,' ',line[2]]\n",
    "    return char_to_num(tf.reshape(tf.strings.unicode_split(tokens, input_encoding='UTF-8'), (-1)))[1:]"
   ]
  },
  {
   "cell_type": "code",
   "execution_count": 14,
   "metadata": {},
   "outputs": [],
   "source": [
    "def load_data(path: str): \n",
    "    path = bytes.decode(path.numpy())\n",
    "    file_name = path.split('/')[-1].split('.')[0]\n",
    "    # File name splitting for windows\n",
    "    # file_name = path.split('\\\\')[-1].split('.')[0]\n",
    "    video_path = os.path.join('data','s1',f'{file_name}.mpg')\n",
    "    alignment_path = os.path.join('data','alignments','s1',f'{file_name}.align')\n",
    "    frames = load_video(video_path) \n",
    "    alignments = load_alignments(alignment_path)\n",
    "    \n",
    "    return frames, alignments"
   ]
  },
  {
   "cell_type": "code",
   "execution_count": 15,
   "metadata": {},
   "outputs": [],
   "source": [
    "test_path = '../ML_LipReading/data/s1/bbal6n.mpg'"
   ]
  },
  {
   "cell_type": "code",
   "execution_count": 16,
   "metadata": {},
   "outputs": [],
   "source": [
    "frames, alignments = load_data(tf.convert_to_tensor(test_path))"
   ]
  },
  {
   "cell_type": "code",
   "execution_count": 17,
   "metadata": {},
   "outputs": [
    {
     "data": {
      "text/plain": [
       "<matplotlib.image.AxesImage at 0x7f9019542e50>"
      ]
     },
     "execution_count": 17,
     "metadata": {},
     "output_type": "execute_result"
    },
    {
     "data": {
      "image/png": "[encoded data removed]",
      "text/plain": [
       "<Figure size 640x480 with 1 Axes>"
      ]
     },
     "metadata": {},
     "output_type": "display_data"
    }
   ],
   "source": [
    "plt.imshow(frames[40])"
   ]
  },
  {
   "cell_type": "code",
   "execution_count": 18,
   "metadata": {},
   "outputs": [
    {
     "data": {
      "text/plain": [
       "<tf.Tensor: shape=(21,), dtype=int64, numpy=\n",
       "array([ 2,  9, 14, 39,  2, 12, 21,  5, 39,  1, 20, 39, 12, 39, 19,  9, 24,\n",
       "       39, 14, 15, 23])>"
      ]
     },
     "execution_count": 18,
     "metadata": {},
     "output_type": "execute_result"
    }
   ],
   "source": [
    "alignments"
   ]
  },
  {
   "cell_type": "code",
   "execution_count": 19,
   "metadata": {},
   "outputs": [
    {
     "data": {
      "text/plain": [
       "<tf.Tensor: shape=(21,), dtype=string, numpy=\n",
       "array([b'b', b'i', b'n', b' ', b'b', b'l', b'u', b'e', b' ', b'a', b't',\n",
       "       b' ', b'l', b' ', b's', b'i', b'x', b' ', b'n', b'o', b'w'],\n",
       "      dtype=object)>"
      ]
     },
     "execution_count": 19,
     "metadata": {},
     "output_type": "execute_result"
    }
   ],
   "source": [
    "num_to_char(alignments)"
   ]
  },
  {
   "cell_type": "code",
   "execution_count": 20,
   "metadata": {},
   "outputs": [
    {
     "data": {
      "text/plain": [
       "<tf.Tensor: shape=(), dtype=string, numpy=b'bin blue at l six now'>"
      ]
     },
     "execution_count": 20,
     "metadata": {},
     "output_type": "execute_result"
    }
   ],
   "source": [
    "tf.strings.reduce_join([bytes.decode(x) for x in num_to_char(alignments.numpy()).numpy()])"
   ]
  },
  {
   "cell_type": "code",
   "execution_count": 21,
   "metadata": {},
   "outputs": [],
   "source": [
    "def mappable_function(path:str) -> List[str]:\n",
    "    \"\"\"\n",
    "    This function takes a path path as an input parameter and uses tf.py_function\n",
    "    to call the load_data function with this path. It is expected that load_data\n",
    "    loads data and returns it in a specific format, specifically as a float tensor and\n",
    "    an integer tensor (tf.float32, tf.int64), which ultimately corresponds\n",
    "    to the output/return of the load_data function\n",
    "    \"\"\"\n",
    "    result = tf.py_function(load_data, [path], (tf.float32, tf.int64))\n",
    "    return result"
   ]
  },
  {
   "cell_type": "markdown",
   "metadata": {},
   "source": [
    "# 2. Create Data Pipeline"
   ]
  },
  {
   "cell_type": "markdown",
   "metadata": {},
   "source": [
    "### 2.1 Look for all the mpg Files, shuffles it and store it into data variable"
   ]
  },
  {
   "cell_type": "code",
   "execution_count": 22,
   "metadata": {},
   "outputs": [],
   "source": [
    "data = tf.data.Dataset.list_files('../ML_LipReading/data/s1/*.mpg')\n",
    "data = data.shuffle(500, reshuffle_each_iteration=False)"
   ]
  },
  {
   "cell_type": "code",
   "execution_count": 23,
   "metadata": {},
   "outputs": [
    {
     "data": {
      "text/plain": [
       "b'../ML_LipReading/data/s1/lrwfzn.mpg'"
      ]
     },
     "execution_count": 23,
     "metadata": {},
     "output_type": "execute_result"
    }
   ],
   "source": [
    "# this is how it looks like now\n",
    "data.as_numpy_iterator().next()"
   ]
  },
  {
   "cell_type": "markdown",
   "metadata": {},
   "source": [
    "### 2.2 Processing Each Element in Data\n",
    "The line `data = data.map(mappable_function)` uses TensorFlow Datasets (tf.data.Dataset) and the `.map()` method to apply the `mappable_function` to each element in the dataset `data`. The dataset `data` likely contains paths to data that need to be loaded and converted into the format expected by `mappable_function`.\n",
    "\n",
    "With this line, data processing is carried out within the dataset, where `mappable_function` is called for each element in the dataset. `mappable_function` converts the paths into the desired format, and the updated dataset is stored in `data`."
   ]
  },
  {
   "cell_type": "code",
   "execution_count": 24,
   "metadata": {},
   "outputs": [],
   "source": [
    "data = data.map(mappable_function)"
   ]
  },
  {
   "cell_type": "code",
   "execution_count": 25,
   "metadata": {},
   "outputs": [],
   "source": [
    "# Here again: (tf.float32, tf.int64), the first one for frames and the second one for alignments\n",
    "frames, alignments = data.as_numpy_iterator().next()"
   ]
  },
  {
   "cell_type": "code",
   "execution_count": 26,
   "metadata": {},
   "outputs": [
    {
     "data": {
      "text/plain": [
       "array([[[[1.5166845 ],\n",
       "         [1.5166845 ],\n",
       "         [1.4787674 ],\n",
       "         ...,\n",
       "         [0.37917113],\n",
       "         [0.37917113],\n",
       "         [0.37917113]],\n",
       "\n",
       "        [[1.4029332 ],\n",
       "         [1.4787674 ],\n",
       "         [1.4029332 ],\n",
       "         ...,\n",
       "         [0.37917113],\n",
       "         [0.37917113],\n",
       "         [0.37917113]],\n",
       "\n",
       "        [[1.5546017 ],\n",
       "         [1.5546017 ],\n",
       "         [1.5546017 ],\n",
       "         ...,\n",
       "         [0.34125403],\n",
       "         [0.30333692],\n",
       "         [0.30333692]],\n",
       "\n",
       "        ...,\n",
       "\n",
       "        [[1.1375134 ],\n",
       "         [1.0616791 ],\n",
       "         [1.0616791 ],\n",
       "         ...,\n",
       "         [0.07583423],\n",
       "         [0.07583423],\n",
       "         [0.07583423]],\n",
       "\n",
       "        [[1.0616791 ],\n",
       "         [1.0616791 ],\n",
       "         [1.0616791 ],\n",
       "         ...,\n",
       "         [0.03791711],\n",
       "         [0.03791711],\n",
       "         [0.03791711]],\n",
       "\n",
       "        [[1.0616791 ],\n",
       "         [1.0616791 ],\n",
       "         [1.0616791 ],\n",
       "         ...,\n",
       "         [0.03791711],\n",
       "         [0.03791711],\n",
       "         [0.        ]]],\n",
       "\n",
       "\n",
       "       [[[1.4408503 ],\n",
       "         [1.4787674 ],\n",
       "         [1.4408503 ],\n",
       "         ...,\n",
       "         [0.37917113],\n",
       "         [0.34125403],\n",
       "         [0.34125403]],\n",
       "\n",
       "        [[1.2891818 ],\n",
       "         [1.4408503 ],\n",
       "         [1.4408503 ],\n",
       "         ...,\n",
       "         [0.37917113],\n",
       "         [0.34125403],\n",
       "         [0.34125403]],\n",
       "\n",
       "        [[1.5166845 ],\n",
       "         [1.5166845 ],\n",
       "         [1.5166845 ],\n",
       "         ...,\n",
       "         [0.30333692],\n",
       "         [0.30333692],\n",
       "         [0.30333692]],\n",
       "\n",
       "        ...,\n",
       "\n",
       "        [[1.0616791 ],\n",
       "         [1.0616791 ],\n",
       "         [1.0616791 ],\n",
       "         ...,\n",
       "         [0.03791711],\n",
       "         [0.07583423],\n",
       "         [0.03791711]],\n",
       "\n",
       "        [[1.0616791 ],\n",
       "         [1.0616791 ],\n",
       "         [1.0616791 ],\n",
       "         ...,\n",
       "         [0.03791711],\n",
       "         [0.03791711],\n",
       "         [0.03791711]],\n",
       "\n",
       "        [[1.0616791 ],\n",
       "         [1.0616791 ],\n",
       "         [1.0237621 ],\n",
       "         ...,\n",
       "         [0.        ],\n",
       "         [0.03791711],\n",
       "         [0.03791711]]],\n",
       "\n",
       "\n",
       "       [[[1.4787674 ],\n",
       "         [1.4408503 ],\n",
       "         [1.3650161 ],\n",
       "         ...,\n",
       "         [0.37917113],\n",
       "         [0.34125403],\n",
       "         [0.34125403]],\n",
       "\n",
       "        [[1.327099  ],\n",
       "         [1.3650161 ],\n",
       "         [1.4408503 ],\n",
       "         ...,\n",
       "         [0.37917113],\n",
       "         [0.34125403],\n",
       "         [0.34125403]],\n",
       "\n",
       "        [[1.4787674 ],\n",
       "         [1.4787674 ],\n",
       "         [1.5166845 ],\n",
       "         ...,\n",
       "         [0.37917113],\n",
       "         [0.30333692],\n",
       "         [0.30333692]],\n",
       "\n",
       "        ...,\n",
       "\n",
       "        [[1.0995963 ],\n",
       "         [1.0995963 ],\n",
       "         [1.0995963 ],\n",
       "         ...,\n",
       "         [0.        ],\n",
       "         [0.07583423],\n",
       "         [0.03791711]],\n",
       "\n",
       "        [[1.0995963 ],\n",
       "         [1.0995963 ],\n",
       "         [1.0995963 ],\n",
       "         ...,\n",
       "         [0.        ],\n",
       "         [0.        ],\n",
       "         [0.        ]],\n",
       "\n",
       "        [[1.0995963 ],\n",
       "         [1.0995963 ],\n",
       "         [1.0616791 ],\n",
       "         ...,\n",
       "         [9.668864  ],\n",
       "         [0.        ],\n",
       "         [0.        ]]],\n",
       "\n",
       "\n",
       "       ...,\n",
       "\n",
       "\n",
       "       [[[1.5166845 ],\n",
       "         [1.3650161 ],\n",
       "         [1.2891818 ],\n",
       "         ...,\n",
       "         [0.18958557],\n",
       "         [0.22750267],\n",
       "         [0.22750267]],\n",
       "\n",
       "        [[1.4787674 ],\n",
       "         [1.4787674 ],\n",
       "         [1.2133477 ],\n",
       "         ...,\n",
       "         [0.18958557],\n",
       "         [0.22750267],\n",
       "         [0.22750267]],\n",
       "\n",
       "        [[1.327099  ],\n",
       "         [1.327099  ],\n",
       "         [1.2891818 ],\n",
       "         ...,\n",
       "         [0.26541978],\n",
       "         [0.26541978],\n",
       "         [0.26541978]],\n",
       "\n",
       "        ...,\n",
       "\n",
       "        [[1.0616791 ],\n",
       "         [1.0616791 ],\n",
       "         [1.0616791 ],\n",
       "         ...,\n",
       "         [0.03791711],\n",
       "         [0.03791711],\n",
       "         [0.03791711]],\n",
       "\n",
       "        [[1.0237621 ],\n",
       "         [1.0237621 ],\n",
       "         [1.0616791 ],\n",
       "         ...,\n",
       "         [0.03791711],\n",
       "         [0.03791711],\n",
       "         [0.03791711]],\n",
       "\n",
       "        [[1.0237621 ],\n",
       "         [1.0237621 ],\n",
       "         [1.0616791 ],\n",
       "         ...,\n",
       "         [0.03791711],\n",
       "         [0.03791711],\n",
       "         [0.        ]]],\n",
       "\n",
       "\n",
       "       [[[1.5546017 ],\n",
       "         [1.4787674 ],\n",
       "         [1.2891818 ],\n",
       "         ...,\n",
       "         [0.26541978],\n",
       "         [0.26541978],\n",
       "         [0.26541978]],\n",
       "\n",
       "        [[1.5166845 ],\n",
       "         [1.4787674 ],\n",
       "         [1.327099  ],\n",
       "         ...,\n",
       "         [0.26541978],\n",
       "         [0.26541978],\n",
       "         [0.26541978]],\n",
       "\n",
       "        [[1.5546017 ],\n",
       "         [1.5166845 ],\n",
       "         [1.4408503 ],\n",
       "         ...,\n",
       "         [0.30333692],\n",
       "         [0.30333692],\n",
       "         [0.30333692]],\n",
       "\n",
       "        ...,\n",
       "\n",
       "        [[1.0616791 ],\n",
       "         [1.0616791 ],\n",
       "         [1.0616791 ],\n",
       "         ...,\n",
       "         [0.03791711],\n",
       "         [0.03791711],\n",
       "         [0.03791711]],\n",
       "\n",
       "        [[1.0237621 ],\n",
       "         [1.0237621 ],\n",
       "         [1.0616791 ],\n",
       "         ...,\n",
       "         [0.03791711],\n",
       "         [0.03791711],\n",
       "         [0.03791711]],\n",
       "\n",
       "        [[0.98584497],\n",
       "         [0.98584497],\n",
       "         [1.0237621 ],\n",
       "         ...,\n",
       "         [0.03791711],\n",
       "         [0.03791711],\n",
       "         [0.        ]]],\n",
       "\n",
       "\n",
       "       [[[1.5925188 ],\n",
       "         [1.5546017 ],\n",
       "         [1.327099  ],\n",
       "         ...,\n",
       "         [0.30333692],\n",
       "         [0.30333692],\n",
       "         [0.30333692]],\n",
       "\n",
       "        [[1.5546017 ],\n",
       "         [1.5546017 ],\n",
       "         [1.3650161 ],\n",
       "         ...,\n",
       "         [0.30333692],\n",
       "         [0.30333692],\n",
       "         [0.30333692]],\n",
       "\n",
       "        [[1.5166845 ],\n",
       "         [1.4787674 ],\n",
       "         [1.3650161 ],\n",
       "         ...,\n",
       "         [0.30333692],\n",
       "         [0.30333692],\n",
       "         [0.30333692]],\n",
       "\n",
       "        ...,\n",
       "\n",
       "        [[1.0616791 ],\n",
       "         [1.0616791 ],\n",
       "         [1.0616791 ],\n",
       "         ...,\n",
       "         [0.03791711],\n",
       "         [0.03791711],\n",
       "         [0.03791711]],\n",
       "\n",
       "        [[1.0237621 ],\n",
       "         [1.0237621 ],\n",
       "         [1.0616791 ],\n",
       "         ...,\n",
       "         [0.03791711],\n",
       "         [0.03791711],\n",
       "         [0.03791711]],\n",
       "\n",
       "        [[0.98584497],\n",
       "         [0.98584497],\n",
       "         [1.0237621 ],\n",
       "         ...,\n",
       "         [0.03791711],\n",
       "         [0.03791711],\n",
       "         [0.        ]]]], dtype=float32)"
      ]
     },
     "execution_count": 26,
     "metadata": {},
     "output_type": "execute_result"
    }
   ],
   "source": [
    "frames"
   ]
  },
  {
   "cell_type": "code",
   "execution_count": 27,
   "metadata": {},
   "outputs": [
    {
     "data": {
      "text/plain": [
       "<matplotlib.image.AxesImage at 0x7f9019c9d550>"
      ]
     },
     "execution_count": 27,
     "metadata": {},
     "output_type": "execute_result"
    },
    {
     "data": {
      "image/png": "[encoded data removed]",
      "text/plain": [
       "<Figure size 640x480 with 1 Axes>"
      ]
     },
     "metadata": {},
     "output_type": "display_data"
    }
   ],
   "source": [
    "plt.imshow(frames[0])"
   ]
  },
  {
   "cell_type": "code",
   "execution_count": 28,
   "metadata": {},
   "outputs": [
    {
     "data": {
      "text/plain": [
       "array([19,  5, 20, 39,  7, 18,  5,  5, 14, 39,  2, 25, 39,  3, 39, 19,  5,\n",
       "       22,  5, 14, 39, 19, 15, 15, 14])"
      ]
     },
     "execution_count": 28,
     "metadata": {},
     "output_type": "execute_result"
    }
   ],
   "source": [
    "alignments"
   ]
  },
  {
   "cell_type": "markdown",
   "metadata": {},
   "source": [
    "### 2.3 Padding and Batching\n",
    "Batches of 2 (2 videos and 2 alignments), make shure 75 Frames for each Video (rest NONE and don't care). The 40 is to ensure we have 40 Tokens for each alignment. If not padded out to 0"
   ]
  },
  {
   "cell_type": "code",
   "execution_count": 29,
   "metadata": {},
   "outputs": [],
   "source": [
    "data = data.padded_batch(2, padded_shapes=([75, None, None, None], [40]))"
   ]
  },
  {
   "cell_type": "markdown",
   "metadata": {},
   "source": [
    "### 2.4 Prefetch\n",
    "Preloading as our ML Model is still loading "
   ]
  },
  {
   "cell_type": "code",
   "execution_count": 30,
   "metadata": {},
   "outputs": [],
   "source": [
    "data = data.prefetch(tf.data.AUTOTUNE)"
   ]
  },
  {
   "cell_type": "code",
   "execution_count": 31,
   "metadata": {},
   "outputs": [],
   "source": [
    "train = data.take(450)\n",
    "test = data.skip(450)"
   ]
  },
  {
   "cell_type": "code",
   "execution_count": 32,
   "metadata": {},
   "outputs": [],
   "source": [
    "frames, alignments = data.as_numpy_iterator().next()"
   ]
  },
  {
   "cell_type": "markdown",
   "metadata": {},
   "source": [
    "Now we have 2 videos and as well 2 alignments which are padded out with zeros to 40 --> !! FOR EACH BATCH !!"
   ]
  },
  {
   "cell_type": "code",
   "execution_count": 33,
   "metadata": {},
   "outputs": [
    {
     "data": {
      "text/plain": [
       "(2,\n",
       " array([[12,  1, 25, 39, 23,  8,  9, 20,  5, 39,  9, 14, 39, 11, 39, 14,\n",
       "          9, 14,  5, 39, 19, 15, 15, 14,  0,  0,  0,  0,  0,  0,  0,  0,\n",
       "          0,  0,  0,  0,  0,  0,  0,  0],\n",
       "        [16, 12,  1,  3,  5, 39,  7, 18,  5,  5, 14, 39, 23,  9, 20,  8,\n",
       "         39, 18, 39,  6, 15, 21, 18, 39, 14, 15, 23,  0,  0,  0,  0,  0,\n",
       "          0,  0,  0,  0,  0,  0,  0,  0]]))"
      ]
     },
     "execution_count": 33,
     "metadata": {},
     "output_type": "execute_result"
    }
   ],
   "source": [
    "len(frames), alignments"
   ]
  },
  {
   "cell_type": "code",
   "execution_count": 34,
   "metadata": {},
   "outputs": [],
   "source": [
    "sample = data.as_numpy_iterator()"
   ]
  },
  {
   "cell_type": "code",
   "execution_count": 35,
   "metadata": {},
   "outputs": [
    {
     "data": {
      "text/plain": [
       "array([[[[[1.3683294 ],\n",
       "          [1.3683294 ],\n",
       "          [1.3683294 ],\n",
       "          ...,\n",
       "          [9.282451  ],\n",
       "          [0.14792751],\n",
       "          [0.14792751]],\n",
       "\n",
       "         [[1.3683294 ],\n",
       "          [1.3683294 ],\n",
       "          [1.3683294 ],\n",
       "          ...,\n",
       "          [9.282451  ],\n",
       "          [0.        ],\n",
       "          [0.        ]],\n",
       "\n",
       "         [[1.2943656 ],\n",
       "          [1.2943656 ],\n",
       "          [1.2943656 ],\n",
       "          ...,\n",
       "          [0.11094563],\n",
       "          [0.22189125],\n",
       "          [0.22189125]],\n",
       "\n",
       "         ...,\n",
       "\n",
       "         [[0.9615288 ],\n",
       "          [0.9615288 ],\n",
       "          [0.9615288 ],\n",
       "          ...,\n",
       "          [0.        ],\n",
       "          [9.430379  ],\n",
       "          [9.430379  ]],\n",
       "\n",
       "         [[0.9615288 ],\n",
       "          [0.9615288 ],\n",
       "          [0.9615288 ],\n",
       "          ...,\n",
       "          [0.        ],\n",
       "          [9.430379  ],\n",
       "          [9.430379  ]],\n",
       "\n",
       "         [[0.9615288 ],\n",
       "          [0.9615288 ],\n",
       "          [0.9615288 ],\n",
       "          ...,\n",
       "          [0.        ],\n",
       "          [9.430379  ],\n",
       "          [9.430379  ]]],\n",
       "\n",
       "\n",
       "        [[[1.4422932 ],\n",
       "          [1.4422932 ],\n",
       "          [1.4053113 ],\n",
       "          ...,\n",
       "          [9.356415  ],\n",
       "          [0.25887313],\n",
       "          [0.29585502]],\n",
       "\n",
       "         [[1.4422932 ],\n",
       "          [1.4422932 ],\n",
       "          [1.4053113 ],\n",
       "          ...,\n",
       "          [9.319433  ],\n",
       "          [0.29585502],\n",
       "          [0.07396375]],\n",
       "\n",
       "         [[1.3313476 ],\n",
       "          [1.3313476 ],\n",
       "          [1.3313476 ],\n",
       "          ...,\n",
       "          [0.18490939],\n",
       "          [0.25887313],\n",
       "          [0.25887313]],\n",
       "\n",
       "         ...,\n",
       "\n",
       "         [[0.99851066],\n",
       "          [0.99851066],\n",
       "          [0.9615288 ],\n",
       "          ...,\n",
       "          [9.430379  ],\n",
       "          [9.393396  ],\n",
       "          [9.393396  ]],\n",
       "\n",
       "         [[0.99851066],\n",
       "          [0.99851066],\n",
       "          [0.99851066],\n",
       "          ...,\n",
       "          [9.393396  ],\n",
       "          [9.356415  ],\n",
       "          [9.356415  ]],\n",
       "\n",
       "         [[0.99851066],\n",
       "          [0.99851066],\n",
       "          [0.99851066],\n",
       "          ...,\n",
       "          [9.393396  ],\n",
       "          [9.356415  ],\n",
       "          [9.356415  ]]],\n",
       "\n",
       "\n",
       "        [[[1.3313476 ],\n",
       "          [1.3313476 ],\n",
       "          [1.2943656 ],\n",
       "          ...,\n",
       "          [9.282451  ],\n",
       "          [0.22189125],\n",
       "          [0.29585502]],\n",
       "\n",
       "         [[1.3313476 ],\n",
       "          [1.3313476 ],\n",
       "          [1.2943656 ],\n",
       "          ...,\n",
       "          [9.356415  ],\n",
       "          [0.25887313],\n",
       "          [0.11094563]],\n",
       "\n",
       "         [[1.3683294 ],\n",
       "          [1.3683294 ],\n",
       "          [1.3683294 ],\n",
       "          ...,\n",
       "          [0.07396375],\n",
       "          [0.22189125],\n",
       "          [0.22189125]],\n",
       "\n",
       "         ...,\n",
       "\n",
       "         [[0.9615288 ],\n",
       "          [0.9615288 ],\n",
       "          [0.9615288 ],\n",
       "          ...,\n",
       "          [9.430379  ],\n",
       "          [9.430379  ],\n",
       "          [9.430379  ]],\n",
       "\n",
       "         [[0.99851066],\n",
       "          [1.0354925 ],\n",
       "          [0.99851066],\n",
       "          ...,\n",
       "          [9.430379  ],\n",
       "          [9.393396  ],\n",
       "          [9.393396  ]],\n",
       "\n",
       "         [[0.9245469 ],\n",
       "          [0.99851066],\n",
       "          [0.9245469 ],\n",
       "          ...,\n",
       "          [9.430379  ],\n",
       "          [9.393396  ],\n",
       "          [9.393396  ]]],\n",
       "\n",
       "\n",
       "        ...,\n",
       "\n",
       "\n",
       "        [[[1.4422932 ],\n",
       "          [1.4422932 ],\n",
       "          [1.4422932 ],\n",
       "          ...,\n",
       "          [0.3328369 ],\n",
       "          [9.356415  ],\n",
       "          [8.986596  ]],\n",
       "\n",
       "         [[1.3683294 ],\n",
       "          [1.3683294 ],\n",
       "          [1.3683294 ],\n",
       "          ...,\n",
       "          [9.134523  ],\n",
       "          [9.06056   ],\n",
       "          [9.06056   ]],\n",
       "\n",
       "         [[1.3683294 ],\n",
       "          [1.3683294 ],\n",
       "          [1.3683294 ],\n",
       "          ...,\n",
       "          [9.097542  ],\n",
       "          [0.07396375],\n",
       "          [0.07396375]],\n",
       "\n",
       "         ...,\n",
       "\n",
       "         [[0.9615288 ],\n",
       "          [0.9615288 ],\n",
       "          [0.99851066],\n",
       "          ...,\n",
       "          [0.07396375],\n",
       "          [0.03698188],\n",
       "          [0.        ]],\n",
       "\n",
       "         [[0.9615288 ],\n",
       "          [0.9615288 ],\n",
       "          [0.99851066],\n",
       "          ...,\n",
       "          [0.03698188],\n",
       "          [0.        ],\n",
       "          [0.        ]],\n",
       "\n",
       "         [[0.9615288 ],\n",
       "          [0.9615288 ],\n",
       "          [0.9245469 ],\n",
       "          ...,\n",
       "          [0.03698188],\n",
       "          [0.        ],\n",
       "          [9.430379  ]]],\n",
       "\n",
       "\n",
       "        [[[1.3683294 ],\n",
       "          [1.3683294 ],\n",
       "          [1.3683294 ],\n",
       "          ...,\n",
       "          [0.25887313],\n",
       "          [9.2084875 ],\n",
       "          [9.06056   ]],\n",
       "\n",
       "         [[1.4422932 ],\n",
       "          [1.4422932 ],\n",
       "          [1.4422932 ],\n",
       "          ...,\n",
       "          [8.986596  ],\n",
       "          [8.949615  ],\n",
       "          [9.134523  ]],\n",
       "\n",
       "         [[1.4422932 ],\n",
       "          [1.4422932 ],\n",
       "          [1.4792751 ],\n",
       "          ...,\n",
       "          [9.097542  ],\n",
       "          [0.07396375],\n",
       "          [0.07396375]],\n",
       "\n",
       "         ...,\n",
       "\n",
       "         [[0.9615288 ],\n",
       "          [0.9615288 ],\n",
       "          [0.99851066],\n",
       "          ...,\n",
       "          [0.03698188],\n",
       "          [0.07396375],\n",
       "          [0.03698188]],\n",
       "\n",
       "         [[0.9615288 ],\n",
       "          [0.9615288 ],\n",
       "          [0.99851066],\n",
       "          ...,\n",
       "          [0.        ],\n",
       "          [0.        ],\n",
       "          [0.        ]],\n",
       "\n",
       "         [[0.9615288 ],\n",
       "          [0.9615288 ],\n",
       "          [0.9245469 ],\n",
       "          ...,\n",
       "          [0.        ],\n",
       "          [0.        ],\n",
       "          [9.430379  ]]],\n",
       "\n",
       "\n",
       "        [[[1.3683294 ],\n",
       "          [1.3683294 ],\n",
       "          [1.4053113 ],\n",
       "          ...,\n",
       "          [0.3328369 ],\n",
       "          [9.245469  ],\n",
       "          [9.06056   ]],\n",
       "\n",
       "         [[1.4422932 ],\n",
       "          [1.4422932 ],\n",
       "          [1.4792751 ],\n",
       "          ...,\n",
       "          [8.986596  ],\n",
       "          [8.949615  ],\n",
       "          [9.134523  ]],\n",
       "\n",
       "         [[1.3683294 ],\n",
       "          [1.3683294 ],\n",
       "          [1.3313476 ],\n",
       "          ...,\n",
       "          [9.023578  ],\n",
       "          [9.393396  ],\n",
       "          [0.03698188]],\n",
       "\n",
       "         ...,\n",
       "\n",
       "         [[0.99851066],\n",
       "          [0.9615288 ],\n",
       "          [0.99851066],\n",
       "          ...,\n",
       "          [0.07396375],\n",
       "          [0.03698188],\n",
       "          [0.        ]],\n",
       "\n",
       "         [[0.99851066],\n",
       "          [0.9615288 ],\n",
       "          [0.99851066],\n",
       "          ...,\n",
       "          [0.03698188],\n",
       "          [0.        ],\n",
       "          [0.        ]],\n",
       "\n",
       "         [[0.9615288 ],\n",
       "          [0.9615288 ],\n",
       "          [0.9245469 ],\n",
       "          ...,\n",
       "          [0.03698188],\n",
       "          [0.        ],\n",
       "          [9.430379  ]]]],\n",
       "\n",
       "\n",
       "\n",
       "       [[[[1.337231  ],\n",
       "          [1.2990243 ],\n",
       "          [1.337231  ],\n",
       "          ...,\n",
       "          [0.3056528 ],\n",
       "          [0.2674462 ],\n",
       "          [0.2674462 ]],\n",
       "\n",
       "         [[1.2990243 ],\n",
       "          [1.1844046 ],\n",
       "          [1.337231  ],\n",
       "          ...,\n",
       "          [0.3056528 ],\n",
       "          [0.2674462 ],\n",
       "          [0.2674462 ]],\n",
       "\n",
       "         [[1.4136442 ],\n",
       "          [1.4136442 ],\n",
       "          [1.4136442 ],\n",
       "          ...,\n",
       "          [0.3056528 ],\n",
       "          [0.2674462 ],\n",
       "          [0.2674462 ]],\n",
       "\n",
       "         ...,\n",
       "\n",
       "         [[0.9933716 ],\n",
       "          [0.9933716 ],\n",
       "          [0.9933716 ],\n",
       "          ...,\n",
       "          [0.0382066 ],\n",
       "          [0.0382066 ],\n",
       "          [0.0382066 ]],\n",
       "\n",
       "         [[0.9933716 ],\n",
       "          [0.9933716 ],\n",
       "          [0.9933716 ],\n",
       "          ...,\n",
       "          [0.0382066 ],\n",
       "          [0.0382066 ],\n",
       "          [0.0382066 ]],\n",
       "\n",
       "         [[0.9933716 ],\n",
       "          [0.9933716 ],\n",
       "          [0.9933716 ],\n",
       "          ...,\n",
       "          [0.0382066 ],\n",
       "          [0.0382066 ],\n",
       "          [0.        ]]],\n",
       "\n",
       "\n",
       "        [[[1.2608178 ],\n",
       "          [1.2608178 ],\n",
       "          [1.2990243 ],\n",
       "          ...,\n",
       "          [0.3438594 ],\n",
       "          [0.2292396 ],\n",
       "          [0.2292396 ]],\n",
       "\n",
       "         [[1.2990243 ],\n",
       "          [1.1079913 ],\n",
       "          [1.2608178 ],\n",
       "          ...,\n",
       "          [0.3438594 ],\n",
       "          [0.2292396 ],\n",
       "          [0.2292396 ]],\n",
       "\n",
       "         [[1.3754376 ],\n",
       "          [1.3754376 ],\n",
       "          [1.4136442 ],\n",
       "          ...,\n",
       "          [0.2674462 ],\n",
       "          [0.19103299],\n",
       "          [0.19103299]],\n",
       "\n",
       "         ...,\n",
       "\n",
       "         [[0.95516497],\n",
       "          [0.95516497],\n",
       "          [0.95516497],\n",
       "          ...,\n",
       "          [0.0382066 ],\n",
       "          [0.0382066 ],\n",
       "          [0.0382066 ]],\n",
       "\n",
       "         [[0.95516497],\n",
       "          [0.95516497],\n",
       "          [0.95516497],\n",
       "          ...,\n",
       "          [0.0382066 ],\n",
       "          [0.0382066 ],\n",
       "          [0.        ]],\n",
       "\n",
       "         [[0.95516497],\n",
       "          [0.95516497],\n",
       "          [0.95516497],\n",
       "          ...,\n",
       "          [0.0382066 ],\n",
       "          [0.        ],\n",
       "          [0.        ]]],\n",
       "\n",
       "\n",
       "        [[[1.4518508 ],\n",
       "          [1.337231  ],\n",
       "          [1.3754376 ],\n",
       "          ...,\n",
       "          [0.3438594 ],\n",
       "          [0.2292396 ],\n",
       "          [0.2292396 ]],\n",
       "\n",
       "         [[1.4900573 ],\n",
       "          [1.2990243 ],\n",
       "          [1.337231  ],\n",
       "          ...,\n",
       "          [0.3438594 ],\n",
       "          [0.2292396 ],\n",
       "          [0.2292396 ]],\n",
       "\n",
       "         [[1.4518508 ],\n",
       "          [1.4518508 ],\n",
       "          [1.4136442 ],\n",
       "          ...,\n",
       "          [0.3056528 ],\n",
       "          [0.3056528 ],\n",
       "          [0.2674462 ]],\n",
       "\n",
       "         ...,\n",
       "\n",
       "         [[1.0315782 ],\n",
       "          [0.9933716 ],\n",
       "          [0.9933716 ],\n",
       "          ...,\n",
       "          [0.0382066 ],\n",
       "          [0.0382066 ],\n",
       "          [0.        ]],\n",
       "\n",
       "         [[0.9933716 ],\n",
       "          [0.9933716 ],\n",
       "          [0.9933716 ],\n",
       "          ...,\n",
       "          [0.0382066 ],\n",
       "          [0.        ],\n",
       "          [0.        ]],\n",
       "\n",
       "         [[0.9933716 ],\n",
       "          [0.9933716 ],\n",
       "          [0.9933716 ],\n",
       "          ...,\n",
       "          [0.        ],\n",
       "          [0.        ],\n",
       "          [0.        ]]],\n",
       "\n",
       "\n",
       "        ...,\n",
       "\n",
       "\n",
       "        [[[1.5282639 ],\n",
       "          [1.3754376 ],\n",
       "          [1.337231  ],\n",
       "          ...,\n",
       "          [0.2674462 ],\n",
       "          [0.3056528 ],\n",
       "          [0.3056528 ]],\n",
       "\n",
       "         [[1.4900573 ],\n",
       "          [1.3754376 ],\n",
       "          [1.337231  ],\n",
       "          ...,\n",
       "          [0.2674462 ],\n",
       "          [0.3056528 ],\n",
       "          [0.3056528 ]],\n",
       "\n",
       "         [[1.4518508 ],\n",
       "          [1.4136442 ],\n",
       "          [1.4136442 ],\n",
       "          ...,\n",
       "          [0.3056528 ],\n",
       "          [0.3056528 ],\n",
       "          [0.3056528 ]],\n",
       "\n",
       "         ...,\n",
       "\n",
       "         [[1.0315782 ],\n",
       "          [0.9933716 ],\n",
       "          [0.9933716 ],\n",
       "          ...,\n",
       "          [0.        ],\n",
       "          [0.        ],\n",
       "          [0.        ]],\n",
       "\n",
       "         [[0.9933716 ],\n",
       "          [0.9933716 ],\n",
       "          [0.9933716 ],\n",
       "          ...,\n",
       "          [0.        ],\n",
       "          [0.        ],\n",
       "          [0.        ]],\n",
       "\n",
       "         [[0.9933716 ],\n",
       "          [0.9933716 ],\n",
       "          [0.9933716 ],\n",
       "          ...,\n",
       "          [0.        ],\n",
       "          [0.        ],\n",
       "          [9.742682  ]]],\n",
       "\n",
       "\n",
       "        [[[1.5282639 ],\n",
       "          [1.4518508 ],\n",
       "          [1.4136442 ],\n",
       "          ...,\n",
       "          [0.2674462 ],\n",
       "          [0.3056528 ],\n",
       "          [0.3056528 ]],\n",
       "\n",
       "         [[1.4136442 ],\n",
       "          [1.4518508 ],\n",
       "          [1.4136442 ],\n",
       "          ...,\n",
       "          [0.2674462 ],\n",
       "          [0.3056528 ],\n",
       "          [0.3056528 ]],\n",
       "\n",
       "         [[1.5282639 ],\n",
       "          [1.4518508 ],\n",
       "          [1.4136442 ],\n",
       "          ...,\n",
       "          [0.3056528 ],\n",
       "          [0.3056528 ],\n",
       "          [0.3056528 ]],\n",
       "\n",
       "         ...,\n",
       "\n",
       "         [[1.0315782 ],\n",
       "          [0.9933716 ],\n",
       "          [0.9933716 ],\n",
       "          ...,\n",
       "          [0.        ],\n",
       "          [0.        ],\n",
       "          [0.        ]],\n",
       "\n",
       "         [[0.9933716 ],\n",
       "          [0.9933716 ],\n",
       "          [0.9933716 ],\n",
       "          ...,\n",
       "          [0.        ],\n",
       "          [0.        ],\n",
       "          [9.742682  ]],\n",
       "\n",
       "         [[0.9933716 ],\n",
       "          [0.9933716 ],\n",
       "          [0.9933716 ],\n",
       "          ...,\n",
       "          [0.        ],\n",
       "          [0.        ],\n",
       "          [9.742682  ]]],\n",
       "\n",
       "\n",
       "        [[[1.4900573 ],\n",
       "          [1.4136442 ],\n",
       "          [1.4136442 ],\n",
       "          ...,\n",
       "          [0.2674462 ],\n",
       "          [0.3056528 ],\n",
       "          [0.3056528 ]],\n",
       "\n",
       "         [[1.3754376 ],\n",
       "          [1.4136442 ],\n",
       "          [1.4136442 ],\n",
       "          ...,\n",
       "          [0.2674462 ],\n",
       "          [0.3056528 ],\n",
       "          [0.3056528 ]],\n",
       "\n",
       "         [[1.5282639 ],\n",
       "          [1.4518508 ],\n",
       "          [1.4136442 ],\n",
       "          ...,\n",
       "          [0.3056528 ],\n",
       "          [0.3056528 ],\n",
       "          [0.2674462 ]],\n",
       "\n",
       "         ...,\n",
       "\n",
       "         [[1.0315782 ],\n",
       "          [0.9933716 ],\n",
       "          [0.9933716 ],\n",
       "          ...,\n",
       "          [0.        ],\n",
       "          [0.        ],\n",
       "          [0.        ]],\n",
       "\n",
       "         [[0.9933716 ],\n",
       "          [0.9933716 ],\n",
       "          [0.9933716 ],\n",
       "          ...,\n",
       "          [0.        ],\n",
       "          [0.        ],\n",
       "          [0.        ]],\n",
       "\n",
       "         [[0.9933716 ],\n",
       "          [0.9933716 ],\n",
       "          [0.9933716 ],\n",
       "          ...,\n",
       "          [0.        ],\n",
       "          [0.        ],\n",
       "          [9.742682  ]]]]], dtype=float32)"
      ]
     },
     "execution_count": 35,
     "metadata": {},
     "output_type": "execute_result"
    }
   ],
   "source": [
    "val = sample.next(); val[0]"
   ]
  },
  {
   "cell_type": "code",
   "execution_count": 36,
   "metadata": {},
   "outputs": [
    {
     "name": "stdout",
     "output_type": "stream",
     "text": [
      "[[[[1.3683294 ]\n",
      "   [1.3683294 ]\n",
      "   [1.3683294 ]\n",
      "   ...\n",
      "   [9.282451  ]\n",
      "   [0.14792751]\n",
      "   [0.14792751]]\n",
      "\n",
      "  [[1.3683294 ]\n",
      "   [1.3683294 ]\n",
      "   [1.3683294 ]\n",
      "   ...\n",
      "   [9.282451  ]\n",
      "   [0.        ]\n",
      "   [0.        ]]\n",
      "\n",
      "  [[1.2943656 ]\n",
      "   [1.2943656 ]\n",
      "   [1.2943656 ]\n",
      "   ...\n",
      "   [0.11094563]\n",
      "   [0.22189125]\n",
      "   [0.22189125]]\n",
      "\n",
      "  ...\n",
      "\n",
      "  [[0.9615288 ]\n",
      "   [0.9615288 ]\n",
      "   [0.9615288 ]\n",
      "   ...\n",
      "   [0.        ]\n",
      "   [9.430379  ]\n",
      "   [9.430379  ]]\n",
      "\n",
      "  [[0.9615288 ]\n",
      "   [0.9615288 ]\n",
      "   [0.9615288 ]\n",
      "   ...\n",
      "   [0.        ]\n",
      "   [9.430379  ]\n",
      "   [9.430379  ]]\n",
      "\n",
      "  [[0.9615288 ]\n",
      "   [0.9615288 ]\n",
      "   [0.9615288 ]\n",
      "   ...\n",
      "   [0.        ]\n",
      "   [9.430379  ]\n",
      "   [9.430379  ]]]\n",
      "\n",
      "\n",
      " [[[1.4422932 ]\n",
      "   [1.4422932 ]\n",
      "   [1.4053113 ]\n",
      "   ...\n",
      "   [9.356415  ]\n",
      "   [0.25887313]\n",
      "   [0.29585502]]\n",
      "\n",
      "  [[1.4422932 ]\n",
      "   [1.4422932 ]\n",
      "   [1.4053113 ]\n",
      "   ...\n",
      "   [9.319433  ]\n",
      "   [0.29585502]\n",
      "   [0.07396375]]\n",
      "\n",
      "  [[1.3313476 ]\n",
      "   [1.3313476 ]\n",
      "   [1.3313476 ]\n",
      "   ...\n",
      "   [0.18490939]\n",
      "   [0.25887313]\n",
      "   [0.25887313]]\n",
      "\n",
      "  ...\n",
      "\n",
      "  [[0.99851066]\n",
      "   [0.99851066]\n",
      "   [0.9615288 ]\n",
      "   ...\n",
      "   [9.430379  ]\n",
      "   [9.393396  ]\n",
      "   [9.393396  ]]\n",
      "\n",
      "  [[0.99851066]\n",
      "   [0.99851066]\n",
      "   [0.99851066]\n",
      "   ...\n",
      "   [9.393396  ]\n",
      "   [9.356415  ]\n",
      "   [9.356415  ]]\n",
      "\n",
      "  [[0.99851066]\n",
      "   [0.99851066]\n",
      "   [0.99851066]\n",
      "   ...\n",
      "   [9.393396  ]\n",
      "   [9.356415  ]\n",
      "   [9.356415  ]]]\n",
      "\n",
      "\n",
      " [[[1.3313476 ]\n",
      "   [1.3313476 ]\n",
      "   [1.2943656 ]\n",
      "   ...\n",
      "   [9.282451  ]\n",
      "   [0.22189125]\n",
      "   [0.29585502]]\n",
      "\n",
      "  [[1.3313476 ]\n",
      "   [1.3313476 ]\n",
      "   [1.2943656 ]\n",
      "   ...\n",
      "   [9.356415  ]\n",
      "   [0.25887313]\n",
      "   [0.11094563]]\n",
      "\n",
      "  [[1.3683294 ]\n",
      "   [1.3683294 ]\n",
      "   [1.3683294 ]\n",
      "   ...\n",
      "   [0.07396375]\n",
      "   [0.22189125]\n",
      "   [0.22189125]]\n",
      "\n",
      "  ...\n",
      "\n",
      "  [[0.9615288 ]\n",
      "   [0.9615288 ]\n",
      "   [0.9615288 ]\n",
      "   ...\n",
      "   [9.430379  ]\n",
      "   [9.430379  ]\n",
      "   [9.430379  ]]\n",
      "\n",
      "  [[0.99851066]\n",
      "   [1.0354925 ]\n",
      "   [0.99851066]\n",
      "   ...\n",
      "   [9.430379  ]\n",
      "   [9.393396  ]\n",
      "   [9.393396  ]]\n",
      "\n",
      "  [[0.9245469 ]\n",
      "   [0.99851066]\n",
      "   [0.9245469 ]\n",
      "   ...\n",
      "   [9.430379  ]\n",
      "   [9.393396  ]\n",
      "   [9.393396  ]]]\n",
      "\n",
      "\n",
      " ...\n",
      "\n",
      "\n",
      " [[[1.4422932 ]\n",
      "   [1.4422932 ]\n",
      "   [1.4422932 ]\n",
      "   ...\n",
      "   [0.3328369 ]\n",
      "   [9.356415  ]\n",
      "   [8.986596  ]]\n",
      "\n",
      "  [[1.3683294 ]\n",
      "   [1.3683294 ]\n",
      "   [1.3683294 ]\n",
      "   ...\n",
      "   [9.134523  ]\n",
      "   [9.06056   ]\n",
      "   [9.06056   ]]\n",
      "\n",
      "  [[1.3683294 ]\n",
      "   [1.3683294 ]\n",
      "   [1.3683294 ]\n",
      "   ...\n",
      "   [9.097542  ]\n",
      "   [0.07396375]\n",
      "   [0.07396375]]\n",
      "\n",
      "  ...\n",
      "\n",
      "  [[0.9615288 ]\n",
      "   [0.9615288 ]\n",
      "   [0.99851066]\n",
      "   ...\n",
      "   [0.07396375]\n",
      "   [0.03698188]\n",
      "   [0.        ]]\n",
      "\n",
      "  [[0.9615288 ]\n",
      "   [0.9615288 ]\n",
      "   [0.99851066]\n",
      "   ...\n",
      "   [0.03698188]\n",
      "   [0.        ]\n",
      "   [0.        ]]\n",
      "\n",
      "  [[0.9615288 ]\n",
      "   [0.9615288 ]\n",
      "   [0.9245469 ]\n",
      "   ...\n",
      "   [0.03698188]\n",
      "   [0.        ]\n",
      "   [9.430379  ]]]\n",
      "\n",
      "\n",
      " [[[1.3683294 ]\n",
      "   [1.3683294 ]\n",
      "   [1.3683294 ]\n",
      "   ...\n",
      "   [0.25887313]\n",
      "   [9.2084875 ]\n",
      "   [9.06056   ]]\n",
      "\n",
      "  [[1.4422932 ]\n",
      "   [1.4422932 ]\n",
      "   [1.4422932 ]\n",
      "   ...\n",
      "   [8.986596  ]\n",
      "   [8.949615  ]\n",
      "   [9.134523  ]]\n",
      "\n",
      "  [[1.4422932 ]\n",
      "   [1.4422932 ]\n",
      "   [1.4792751 ]\n",
      "   ...\n",
      "   [9.097542  ]\n",
      "   [0.07396375]\n",
      "   [0.07396375]]\n",
      "\n",
      "  ...\n",
      "\n",
      "  [[0.9615288 ]\n",
      "   [0.9615288 ]\n",
      "   [0.99851066]\n",
      "   ...\n",
      "   [0.03698188]\n",
      "   [0.07396375]\n",
      "   [0.03698188]]\n",
      "\n",
      "  [[0.9615288 ]\n",
      "   [0.9615288 ]\n",
      "   [0.99851066]\n",
      "   ...\n",
      "   [0.        ]\n",
      "   [0.        ]\n",
      "   [0.        ]]\n",
      "\n",
      "  [[0.9615288 ]\n",
      "   [0.9615288 ]\n",
      "   [0.9245469 ]\n",
      "   ...\n",
      "   [0.        ]\n",
      "   [0.        ]\n",
      "   [9.430379  ]]]\n",
      "\n",
      "\n",
      " [[[1.3683294 ]\n",
      "   [1.3683294 ]\n",
      "   [1.4053113 ]\n",
      "   ...\n",
      "   [0.3328369 ]\n",
      "   [9.245469  ]\n",
      "   [9.06056   ]]\n",
      "\n",
      "  [[1.4422932 ]\n",
      "   [1.4422932 ]\n",
      "   [1.4792751 ]\n",
      "   ...\n",
      "   [8.986596  ]\n",
      "   [8.949615  ]\n",
      "   [9.134523  ]]\n",
      "\n",
      "  [[1.3683294 ]\n",
      "   [1.3683294 ]\n",
      "   [1.3313476 ]\n",
      "   ...\n",
      "   [9.023578  ]\n",
      "   [9.393396  ]\n",
      "   [0.03698188]]\n",
      "\n",
      "  ...\n",
      "\n",
      "  [[0.99851066]\n",
      "   [0.9615288 ]\n",
      "   [0.99851066]\n",
      "   ...\n",
      "   [0.07396375]\n",
      "   [0.03698188]\n",
      "   [0.        ]]\n",
      "\n",
      "  [[0.99851066]\n",
      "   [0.9615288 ]\n",
      "   [0.99851066]\n",
      "   ...\n",
      "   [0.03698188]\n",
      "   [0.        ]\n",
      "   [0.        ]]\n",
      "\n",
      "  [[0.9615288 ]\n",
      "   [0.9615288 ]\n",
      "   [0.9245469 ]\n",
      "   ...\n",
      "   [0.03698188]\n",
      "   [0.        ]\n",
      "   [9.430379  ]]]]\n"
     ]
    }
   ],
   "source": [
    "print(val[0][0])"
   ]
  },
  {
   "cell_type": "code",
   "execution_count": 37,
   "metadata": {},
   "outputs": [
    {
     "name": "stderr",
     "output_type": "stream",
     "text": [
      "Lossy conversion from float32 to uint8. Range [0.0, 9.430378913879395]. Convert image to uint8 prior to saving to suppress this warning.\n",
      "Lossy conversion from float32 to uint8. Range [0.0, 9.430378913879395]. Convert image to uint8 prior to saving to suppress this warning.\n",
      "Lossy conversion from float32 to uint8. Range [0.0, 9.430378913879395]. Convert image to uint8 prior to saving to suppress this warning.\n",
      "Lossy conversion from float32 to uint8. Range [0.0, 9.430378913879395]. Convert image to uint8 prior to saving to suppress this warning.\n",
      "Lossy conversion from float32 to uint8. Range [0.0, 9.430378913879395]. Convert image to uint8 prior to saving to suppress this warning.\n",
      "Lossy conversion from float32 to uint8. Range [0.0, 9.430378913879395]. Convert image to uint8 prior to saving to suppress this warning.\n",
      "Lossy conversion from float32 to uint8. Range [0.0, 9.430378913879395]. Convert image to uint8 prior to saving to suppress this warning.\n",
      "Lossy conversion from float32 to uint8. Range [0.0, 9.430378913879395]. Convert image to uint8 prior to saving to suppress this warning.\n",
      "Lossy conversion from float32 to uint8. Range [0.0, 9.430378913879395]. Convert image to uint8 prior to saving to suppress this warning.\n",
      "Lossy conversion from float32 to uint8. Range [0.0, 9.430378913879395]. Convert image to uint8 prior to saving to suppress this warning.\n",
      "Lossy conversion from float32 to uint8. Range [0.0, 9.430378913879395]. Convert image to uint8 prior to saving to suppress this warning.\n",
      "Lossy conversion from float32 to uint8. Range [0.0, 9.430378913879395]. Convert image to uint8 prior to saving to suppress this warning.\n",
      "Lossy conversion from float32 to uint8. Range [0.0, 9.430378913879395]. Convert image to uint8 prior to saving to suppress this warning.\n",
      "Lossy conversion from float32 to uint8. Range [0.0, 9.430378913879395]. Convert image to uint8 prior to saving to suppress this warning.\n"
     ]
    },
    {
     "name": "stderr",
     "output_type": "stream",
     "text": [
      "Lossy conversion from float32 to uint8. Range [0.0, 9.430378913879395]. Convert image to uint8 prior to saving to suppress this warning.\n",
      "Lossy conversion from float32 to uint8. Range [0.0, 9.430378913879395]. Convert image to uint8 prior to saving to suppress this warning.\n",
      "Lossy conversion from float32 to uint8. Range [0.0, 9.430378913879395]. Convert image to uint8 prior to saving to suppress this warning.\n",
      "Lossy conversion from float32 to uint8. Range [0.0, 9.430378913879395]. Convert image to uint8 prior to saving to suppress this warning.\n",
      "Lossy conversion from float32 to uint8. Range [0.0, 9.430378913879395]. Convert image to uint8 prior to saving to suppress this warning.\n",
      "Lossy conversion from float32 to uint8. Range [0.0, 9.430378913879395]. Convert image to uint8 prior to saving to suppress this warning.\n",
      "Lossy conversion from float32 to uint8. Range [0.0, 9.430378913879395]. Convert image to uint8 prior to saving to suppress this warning.\n",
      "Lossy conversion from float32 to uint8. Range [0.0, 9.430378913879395]. Convert image to uint8 prior to saving to suppress this warning.\n",
      "Lossy conversion from float32 to uint8. Range [0.0, 9.430378913879395]. Convert image to uint8 prior to saving to suppress this warning.\n",
      "Lossy conversion from float32 to uint8. Range [0.0, 9.430378913879395]. Convert image to uint8 prior to saving to suppress this warning.\n",
      "Lossy conversion from float32 to uint8. Range [0.0, 9.430378913879395]. Convert image to uint8 prior to saving to suppress this warning.\n",
      "Lossy conversion from float32 to uint8. Range [0.0, 9.430378913879395]. Convert image to uint8 prior to saving to suppress this warning.\n",
      "Lossy conversion from float32 to uint8. Range [0.0, 9.430378913879395]. Convert image to uint8 prior to saving to suppress this warning.\n",
      "Lossy conversion from float32 to uint8. Range [0.0, 9.430378913879395]. Convert image to uint8 prior to saving to suppress this warning.\n",
      "Lossy conversion from float32 to uint8. Range [0.0, 9.430378913879395]. Convert image to uint8 prior to saving to suppress this warning.\n",
      "Lossy conversion from float32 to uint8. Range [0.0, 9.430378913879395]. Convert image to uint8 prior to saving to suppress this warning.\n",
      "Lossy conversion from float32 to uint8. Range [0.0, 9.430378913879395]. Convert image to uint8 prior to saving to suppress this warning.\n",
      "Lossy conversion from float32 to uint8. Range [0.0, 9.430378913879395]. Convert image to uint8 prior to saving to suppress this warning.\n",
      "Lossy conversion from float32 to uint8. Range [0.0, 9.430378913879395]. Convert image to uint8 prior to saving to suppress this warning.\n",
      "Lossy conversion from float32 to uint8. Range [0.0, 9.430378913879395]. Convert image to uint8 prior to saving to suppress this warning.\n",
      "Lossy conversion from float32 to uint8. Range [0.0, 9.430378913879395]. Convert image to uint8 prior to saving to suppress this warning.\n",
      "Lossy conversion from float32 to uint8. Range [0.0, 9.430378913879395]. Convert image to uint8 prior to saving to suppress this warning.\n",
      "Lossy conversion from float32 to uint8. Range [0.0, 9.430378913879395]. Convert image to uint8 prior to saving to suppress this warning.\n",
      "Lossy conversion from float32 to uint8. Range [0.0, 9.430378913879395]. Convert image to uint8 prior to saving to suppress this warning.\n",
      "Lossy conversion from float32 to uint8. Range [0.0, 9.430378913879395]. Convert image to uint8 prior to saving to suppress this warning.\n",
      "Lossy conversion from float32 to uint8. Range [0.0, 9.430378913879395]. Convert image to uint8 prior to saving to suppress this warning.\n",
      "Lossy conversion from float32 to uint8. Range [0.0, 9.430378913879395]. Convert image to uint8 prior to saving to suppress this warning.\n",
      "Lossy conversion from float32 to uint8. Range [0.0, 9.430378913879395]. Convert image to uint8 prior to saving to suppress this warning.\n",
      "Lossy conversion from float32 to uint8. Range [0.0, 9.430378913879395]. Convert image to uint8 prior to saving to suppress this warning.\n",
      "Lossy conversion from float32 to uint8. Range [0.0, 9.430378913879395]. Convert image to uint8 prior to saving to suppress this warning.\n",
      "Lossy conversion from float32 to uint8. Range [0.0, 9.430378913879395]. Convert image to uint8 prior to saving to suppress this warning.\n",
      "Lossy conversion from float32 to uint8. Range [0.0, 9.430378913879395]. Convert image to uint8 prior to saving to suppress this warning.\n",
      "Lossy conversion from float32 to uint8. Range [0.0, 9.430378913879395]. Convert image to uint8 prior to saving to suppress this warning.\n",
      "Lossy conversion from float32 to uint8. Range [0.0, 9.430378913879395]. Convert image to uint8 prior to saving to suppress this warning.\n",
      "Lossy conversion from float32 to uint8. Range [0.0, 9.430378913879395]. Convert image to uint8 prior to saving to suppress this warning.\n",
      "Lossy conversion from float32 to uint8. Range [0.0, 9.430378913879395]. Convert image to uint8 prior to saving to suppress this warning.\n",
      "Lossy conversion from float32 to uint8. Range [0.0, 9.430378913879395]. Convert image to uint8 prior to saving to suppress this warning.\n",
      "Lossy conversion from float32 to uint8. Range [0.0, 9.430378913879395]. Convert image to uint8 prior to saving to suppress this warning.\n",
      "Lossy conversion from float32 to uint8. Range [0.0, 9.430378913879395]. Convert image to uint8 prior to saving to suppress this warning.\n",
      "Lossy conversion from float32 to uint8. Range [0.0, 9.430378913879395]. Convert image to uint8 prior to saving to suppress this warning.\n",
      "Lossy conversion from float32 to uint8. Range [0.0, 9.430378913879395]. Convert image to uint8 prior to saving to suppress this warning.\n",
      "Lossy conversion from float32 to uint8. Range [0.0, 9.430378913879395]. Convert image to uint8 prior to saving to suppress this warning.\n",
      "Lossy conversion from float32 to uint8. Range [0.0, 9.430378913879395]. Convert image to uint8 prior to saving to suppress this warning.\n",
      "Lossy conversion from float32 to uint8. Range [0.0, 9.430378913879395]. Convert image to uint8 prior to saving to suppress this warning.\n",
      "Lossy conversion from float32 to uint8. Range [0.0, 9.430378913879395]. Convert image to uint8 prior to saving to suppress this warning.\n",
      "Lossy conversion from float32 to uint8. Range [0.0, 9.430378913879395]. Convert image to uint8 prior to saving to suppress this warning.\n",
      "Lossy conversion from float32 to uint8. Range [0.0, 9.430378913879395]. Convert image to uint8 prior to saving to suppress this warning.\n",
      "Lossy conversion from float32 to uint8. Range [0.0, 9.430378913879395]. Convert image to uint8 prior to saving to suppress this warning.\n",
      "Lossy conversion from float32 to uint8. Range [0.0, 9.430378913879395]. Convert image to uint8 prior to saving to suppress this warning.\n",
      "Lossy conversion from float32 to uint8. Range [0.0, 9.430378913879395]. Convert image to uint8 prior to saving to suppress this warning.\n",
      "Lossy conversion from float32 to uint8. Range [0.0, 9.430378913879395]. Convert image to uint8 prior to saving to suppress this warning.\n",
      "Lossy conversion from float32 to uint8. Range [0.0, 9.430378913879395]. Convert image to uint8 prior to saving to suppress this warning.\n",
      "Lossy conversion from float32 to uint8. Range [0.0, 9.430378913879395]. Convert image to uint8 prior to saving to suppress this warning.\n",
      "Lossy conversion from float32 to uint8. Range [0.0, 9.430378913879395]. Convert image to uint8 prior to saving to suppress this warning.\n",
      "Lossy conversion from float32 to uint8. Range [0.0, 9.430378913879395]. Convert image to uint8 prior to saving to suppress this warning.\n",
      "Lossy conversion from float32 to uint8. Range [0.0, 9.430378913879395]. Convert image to uint8 prior to saving to suppress this warning.\n",
      "Lossy conversion from float32 to uint8. Range [0.0, 9.430378913879395]. Convert image to uint8 prior to saving to suppress this warning.\n",
      "Lossy conversion from float32 to uint8. Range [0.0, 9.430378913879395]. Convert image to uint8 prior to saving to suppress this warning.\n",
      "Lossy conversion from float32 to uint8. Range [0.0, 9.430378913879395]. Convert image to uint8 prior to saving to suppress this warning.\n",
      "Lossy conversion from float32 to uint8. Range [0.0, 9.430378913879395]. Convert image to uint8 prior to saving to suppress this warning.\n",
      "Lossy conversion from float32 to uint8. Range [0.0, 9.430378913879395]. Convert image to uint8 prior to saving to suppress this warning.\n"
     ]
    }
   ],
   "source": [
    "imageio.mimsave('../ML_LipReading/animation.gif', val[0][0], fps=10)"
   ]
  },
  {
   "cell_type": "code",
   "execution_count": 38,
   "metadata": {},
   "outputs": [
    {
     "data": {
      "text/plain": [
       "<matplotlib.image.AxesImage at 0x7f900faa74f0>"
      ]
     },
     "execution_count": 38,
     "metadata": {},
     "output_type": "execute_result"
    },
    {
     "data": {
      "image/png": "[encoded data removed]",
      "text/plain": [
       "<Figure size 640x480 with 1 Axes>"
      ]
     },
     "metadata": {},
     "output_type": "display_data"
    }
   ],
   "source": [
    "# 0: videos, 0: 1st video of the batch, 0: return first frame in the video\n",
    "plt.imshow(val[0][0][0])"
   ]
  },
  {
   "cell_type": "code",
   "execution_count": 39,
   "metadata": {},
   "outputs": [
    {
     "data": {
      "text/plain": [
       "<tf.Tensor: shape=(), dtype=string, numpy=b'lay white at r seven soon'>"
      ]
     },
     "execution_count": 39,
     "metadata": {},
     "output_type": "execute_result"
    }
   ],
   "source": [
    "# show the text to the gif we made above [0][0]\n",
    "# here we use [1][0] to enter not the video - [1] enters the text\n",
    "tf.strings.reduce_join([num_to_char(word) for word in val[1][0]])"
   ]
  },
  {
   "cell_type": "markdown",
   "metadata": {},
   "source": [
    "# 3. Design the Deep Neural Network"
   ]
  },
  {
   "cell_type": "code",
   "execution_count": 40,
   "metadata": {},
   "outputs": [],
   "source": [
    "from tensorflow.keras.models import Sequential\n",
    "from tensorflow.keras.layers import Conv3D, LSTM, Dense, Dropout, Bidirectional, MaxPool3D, Activation, Reshape, SpatialDropout3D, BatchNormalization, TimeDistributed, Flatten\n",
    "from tensorflow.keras.optimizers import Adam\n",
    "from tensorflow.keras.callbacks import ModelCheckpoint, LearningRateScheduler"
   ]
  },
  {
   "cell_type": "code",
   "execution_count": 41,
   "metadata": {},
   "outputs": [
    {
     "data": {
      "text/plain": [
       "(75, 46, 140, 1)"
      ]
     },
     "execution_count": 41,
     "metadata": {},
     "output_type": "execute_result"
    }
   ],
   "source": [
    "data.as_numpy_iterator().next()[0][0].shape"
   ]
  },
  {
   "cell_type": "code",
   "execution_count": 42,
   "metadata": {},
   "outputs": [],
   "source": [
    "model = Sequential()\n",
    "model.add(Conv3D(128, 3, input_shape=(75, 46, 140, 1), padding=\"same\", activation=\"relu\"))\n",
    "model.add(MaxPool3D((1,2,2)))\n",
    "\n",
    "model.add(Conv3D(256, 3, padding='same', activation='relu'))\n",
    "model.add(MaxPool3D((1,2,2)))\n",
    "\n",
    "model.add(Conv3D(75, 3, padding='same', activation='relu'))\n",
    "model.add(MaxPool3D((1,2,2)))\n",
    "\n",
    "model.add(TimeDistributed(Flatten()))\n",
    "\n",
    "model.add(Bidirectional(LSTM(128, kernel_initializer=\"Orthogonal\", return_sequences=True)))\n",
    "model.add(Dropout(.5))\n",
    "\n",
    "model.add(Bidirectional(LSTM(128, kernel_initializer=\"Orthogonal\", return_sequences=True)))\n",
    "model.add(Dropout(.5))\n",
    "\n",
    "model.add(Dense(char_to_num.vocabulary_size()+1, kernel_initializer=\"he_normal\", activation='softmax'))"
   ]
  },
  {
   "cell_type": "markdown",
   "metadata": {},
   "source": [
    "1. **Conv3D Layers (Convolutional Layers)**:\n",
    "   - These layers are used to detect patterns in the 3D video recordings of lip movements. The 3D information can represent the spatial changes in lip movements.\n",
    "\n",
    "2. **Activation Function (ReLU)**:\n",
    "   - ReLU is applied after each convolutional layer to capture non-linear patterns in the data, helping control the activation of neurons.\n",
    "\n",
    "3. **Max-Pooling**:\n",
    "   - Max-pooling reduces the spatial dimension of the data and focuses on the most important features. In this case, it is used to speed up processing and remove unimportant details.\n",
    "\n",
    "4. **TimeDistributed(Flatten())**:\n",
    "   - This step converts the 3D data into a flat form, preparing it for use in the LSTM layers.\n",
    "\n",
    "5. **Bidirectional LSTM Layers**:\n",
    "   - Since lip reading exhibits temporal dependency (the order of lip movements is important), bidirectional LSTM layers are used to capture these temporal patterns. They can analyze lip movements both forward and backward.\n",
    "\n",
    "6. **Dropout**:\n",
    "   - Dropout helps make the model more robust and prevents overfitting. In this case, it is important because the model is trained on a variety of lip movements, and the risk of overfitting is high.\n",
    "\n",
    "7. **Dense Layer**:\n",
    "   - The output layer of the model returns a probability distribution over possible characters (letters or words) corresponding to the lip movements. The model can then predict the most likely text based on the lip movements.\n",
    "\n",
    "In summary, this model is used to analyze lip movements in video files and convert them into text by focusing on the temporal patterns in lip movements. This can be useful in applications such as automatic recognition of spoken text from lip movements in videos."
   ]
  },
  {
   "cell_type": "code",
   "execution_count": 43,
   "metadata": {},
   "outputs": [
    {
     "name": "stdout",
     "output_type": "stream",
     "text": [
      "Model: \"sequential\"\n",
      "_________________________________________________________________\n",
      " Layer (type)                Output Shape              Param #   \n",
      "=================================================================\n",
      " conv3d (Conv3D)             (None, 75, 46, 140, 128)  3584      \n",
      "                                                                 \n",
      " max_pooling3d (MaxPooling3D  (None, 75, 23, 70, 128)  0         \n",
      " )                                                               \n",
      "                                                                 \n",
      " conv3d_1 (Conv3D)           (None, 75, 23, 70, 256)   884992    \n",
      "                                                                 \n",
      " max_pooling3d_1 (MaxPooling  (None, 75, 11, 35, 256)  0         \n",
      " 3D)                                                             \n",
      "                                                                 \n",
      " conv3d_2 (Conv3D)           (None, 75, 11, 35, 75)    518475    \n",
      "                                                                 \n",
      " max_pooling3d_2 (MaxPooling  (None, 75, 5, 17, 75)    0         \n",
      " 3D)                                                             \n",
      "                                                                 \n",
      " time_distributed (TimeDistr  (None, 75, 6375)         0         \n",
      " ibuted)                                                         \n",
      "                                                                 \n",
      " bidirectional (Bidirectiona  (None, 75, 256)          6660096   \n",
      " l)                                                              \n",
      "                                                                 \n",
      " dropout (Dropout)           (None, 75, 256)           0         \n",
      "                                                                 \n",
      " bidirectional_1 (Bidirectio  (None, 75, 256)          394240    \n",
      " nal)                                                            \n",
      "                                                                 \n",
      " dropout_1 (Dropout)         (None, 75, 256)           0         \n",
      "                                                                 \n",
      " dense (Dense)               (None, 75, 41)            10537     \n",
      "                                                                 \n",
      "=================================================================\n",
      "Total params: 8,471,924\n",
      "Trainable params: 8,471,924\n",
      "Non-trainable params: 0\n",
      "_________________________________________________________________\n"
     ]
    }
   ],
   "source": [
    "model.summary()"
   ]
  },
  {
   "cell_type": "markdown",
   "metadata": {},
   "source": [
    "# 4. Setup Training"
   ]
  },
  {
   "cell_type": "code",
   "execution_count": 44,
   "metadata": {},
   "outputs": [],
   "source": [
    "def scheduler(epoch, lr):\n",
    "    if epoch < 30:\n",
    "        return lr\n",
    "    else:\n",
    "        return lr * tf.math.exp(-0.1)"
   ]
  },
  {
   "cell_type": "code",
   "execution_count": 45,
   "metadata": {},
   "outputs": [],
   "source": [
    "def CTCLoss(y_true, y_pred):\n",
    "    batch_len = tf.cast(tf.shape(y_true)[0], dtype=\"int64\")\n",
    "    input_length = tf.cast(tf.shape(y_pred)[1], dtype=\"int64\")\n",
    "    label_length = tf.cast(tf.shape(y_true)[1], dtype=\"int64\")\n",
    "\n",
    "    input_length = input_length * tf.ones(shape=(batch_len, 1), dtype=\"int64\")\n",
    "    label_length = label_length * tf.ones(shape=(batch_len, 1), dtype=\"int64\")\n",
    "\n",
    "    loss = tf.keras.backend.ctc_batch_cost(y_true, y_pred, input_length, label_length)\n",
    "    return loss"
   ]
  },
  {
   "cell_type": "code",
   "execution_count": 46,
   "metadata": {},
   "outputs": [],
   "source": [
    "class ProduceExample(tf.keras.callbacks.Callback): \n",
    "    def __init__(self, dataset) -> None: \n",
    "        self.dataset = dataset.as_numpy_iterator()\n",
    "    \n",
    "    def on_epoch_end(self, epoch, logs=None) -> None:\n",
    "        data = self.dataset.next()\n",
    "        yhat = self.model.predict(data[0])\n",
    "        decoded = tf.keras.backend.ctc_decode(yhat, [75,75], greedy=False)[0][0].numpy()\n",
    "        for x in range(len(yhat)):           \n",
    "            print('Original:', tf.strings.reduce_join(num_to_char(data[1][x])).numpy().decode('utf-8'))\n",
    "            print('Prediction:', tf.strings.reduce_join(num_to_char(decoded[x])).numpy().decode('utf-8'))\n",
    "            print('~'*100)"
   ]
  },
  {
   "cell_type": "code",
   "execution_count": 47,
   "metadata": {},
   "outputs": [],
   "source": [
    "model.compile(optimizer=Adam(learning_rate=0.0001),\n",
    "              loss=CTCLoss)"
   ]
  },
  {
   "cell_type": "code",
   "execution_count": 48,
   "metadata": {},
   "outputs": [],
   "source": [
    "checkpoint_callback = ModelCheckpoint(os.path.join('models','checkpoint'), monitor='loss', save_weights_only=True)"
   ]
  },
  {
   "cell_type": "code",
   "execution_count": 49,
   "metadata": {},
   "outputs": [],
   "source": [
    "schedule_callback = LearningRateScheduler(scheduler)"
   ]
  },
  {
   "cell_type": "code",
   "execution_count": 50,
   "metadata": {},
   "outputs": [],
   "source": [
    "example_callback = ProduceExample(data)"
   ]
  },
  {
   "cell_type": "code",
   "execution_count": 51,
   "metadata": {},
   "outputs": [],
   "source": [
    "# model.fit(train,\n",
    "#          validation_data=test,\n",
    "#          epochs=100,\n",
    "#          callbacks=[checkpoint_callback, schedule_callback, example_callback])"
   ]
  },
  {
   "cell_type": "markdown",
   "metadata": {},
   "source": [
    "# 5. Make a Prediction"
   ]
  },
  {
   "cell_type": "code",
   "execution_count": 52,
   "metadata": {},
   "outputs": [],
   "source": [
    "# url = 'https://drive.google.com/uc?id=1vWscXs4Vt0a_1IH1-ct2TCgXAZT-N3_Y'\n",
    "# output = 'checkpoints.zip'\n",
    "# gdown.download(url, output, quiet=False)\n",
    "# gdown.extractall('checkpoints.zip', 'models')"
   ]
  },
  {
   "cell_type": "code",
   "execution_count": 53,
   "metadata": {},
   "outputs": [
    {
     "name": "stdout",
     "output_type": "stream",
     "text": [
      "WARNING:tensorflow:Inconsistent references when loading the checkpoint into this object graph. For example, in the saved checkpoint object, `model.layer.weight` and `model.layer_copy.weight` reference the same variable, while in the current object these are two different variables. The referenced variables are:(<keras.layers.convolutional.conv3d.Conv3D object at 0x7f900fb7ad90> and <keras.layers.pooling.max_pooling3d.MaxPooling3D object at 0x7f900fb79cd0>).\n",
      "WARNING:tensorflow:Inconsistent references when loading the checkpoint into this object graph. For example, in the saved checkpoint object, `model.layer.weight` and `model.layer_copy.weight` reference the same variable, while in the current object these are two different variables. The referenced variables are:(<keras.layers.convolutional.conv3d.Conv3D object at 0x7f900fb10280> and <keras.layers.rnn.time_distributed.TimeDistributed object at 0x7f901a1d6640>).\n",
      "WARNING:tensorflow:Inconsistent references when loading the checkpoint into this object graph. For example, in the saved checkpoint object, `model.layer.weight` and `model.layer_copy.weight` reference the same variable, while in the current object these are two different variables. The referenced variables are:(<keras.layers.rnn.bidirectional.Bidirectional object at 0x7f901a1c6e20> and <keras.layers.regularization.dropout.Dropout object at 0x7f901a2524c0>).\n"
     ]
    },
    {
     "data": {
      "text/plain": [
       "<tensorflow.python.checkpoint.checkpoint.CheckpointLoadStatus at 0x7f900fb79c70>"
      ]
     },
     "execution_count": 53,
     "metadata": {},
     "output_type": "execute_result"
    }
   ],
   "source": [
    "model.load_weights('models/checkpoint')"
   ]
  },
  {
   "cell_type": "code",
   "execution_count": 54,
   "metadata": {},
   "outputs": [],
   "source": [
    "test_data = test.as_numpy_iterator()"
   ]
  },
  {
   "cell_type": "code",
   "execution_count": 55,
   "metadata": {},
   "outputs": [],
   "source": [
    "sample = test_data.next()"
   ]
  },
  {
   "cell_type": "code",
   "execution_count": 56,
   "metadata": {},
   "outputs": [
    {
     "name": "stdout",
     "output_type": "stream",
     "text": [
      "1/1 [==============================] - 11s 11s/step\n"
     ]
    }
   ],
   "source": [
    "yhat = model.predict(sample[0])"
   ]
  },
  {
   "cell_type": "code",
   "execution_count": 57,
   "metadata": {},
   "outputs": [
    {
     "name": "stdout",
     "output_type": "stream",
     "text": [
      "~~~~~~~~~~~~~~~~~~~~~~~~~~~~~~~~~~~~~~~~~~~~~~~~~~~~~~~~~~~~~~~~~~~~~~~~~~~~~~~~~~~~~~~~~~~~~~~~~~~~ REAL TEXT\n"
     ]
    },
    {
     "data": {
      "text/plain": [
       "[<tf.Tensor: shape=(), dtype=string, numpy=b'bin white with h three soon'>,\n",
       " <tf.Tensor: shape=(), dtype=string, numpy=b'place green at y one soon'>]"
      ]
     },
     "execution_count": 57,
     "metadata": {},
     "output_type": "execute_result"
    }
   ],
   "source": [
    "print('~'*70, 'REAL TEXT')\n",
    "[tf.strings.reduce_join([num_to_char(word) for word in sentence]) for sentence in sample[1]]"
   ]
  },
  {
   "cell_type": "code",
   "execution_count": 58,
   "metadata": {},
   "outputs": [],
   "source": [
    "decoded = tf.keras.backend.ctc_decode(yhat, input_length=[75,75], greedy=True)[0][0].numpy()"
   ]
  },
  {
   "cell_type": "code",
   "execution_count": 59,
   "metadata": {},
   "outputs": [
    {
     "name": "stdout",
     "output_type": "stream",
     "text": [
      "~~~~~~~~~~~~~~~~~~~~~~~~~~~~~~~~~~~~~~~~~~~~~~~~~~~~~~~~~~~~~~~~~~~~~~~~~~~~~~~~~~~~~~~~~~~~~~~~~~~~ PREDICTIONS\n"
     ]
    },
    {
     "data": {
      "text/plain": [
       "[<tf.Tensor: shape=(), dtype=string, numpy=b'bin white with h three soon'>,\n",
       " <tf.Tensor: shape=(), dtype=string, numpy=b'place green at y one soon'>]"
      ]
     },
     "execution_count": 59,
     "metadata": {},
     "output_type": "execute_result"
    }
   ],
   "source": [
    "print('~'*70, 'PREDICTIONS')\n",
    "[tf.strings.reduce_join([num_to_char(word) for word in sentence]) for sentence in decoded]"
   ]
  },
  {
   "cell_type": "markdown",
   "metadata": {},
   "source": [
    "# Test on a Video"
   ]
  },
  {
   "cell_type": "code",
   "execution_count": 60,
   "metadata": {},
   "outputs": [],
   "source": [
    "sample = load_data(tf.convert_to_tensor('data/s1/bbbs7a.mpg'))"
   ]
  },
  {
   "cell_type": "code",
   "execution_count": 63,
   "metadata": {},
   "outputs": [
    {
     "data": {
      "text/plain": [
       "<tf.Tensor: shape=(25,), dtype=int64, numpy=\n",
       "array([ 2,  9, 14, 39,  2, 12, 21,  5, 39,  2, 25, 39, 19, 39, 19,  5, 22,\n",
       "        5, 14, 39,  1,  7,  1,  9, 14])>"
      ]
     },
     "execution_count": 63,
     "metadata": {},
     "output_type": "execute_result"
    }
   ],
   "source": [
    "sample[1]"
   ]
  },
  {
   "cell_type": "code",
   "execution_count": 61,
   "metadata": {},
   "outputs": [
    {
     "name": "stdout",
     "output_type": "stream",
     "text": [
      "~~~~~~~~~~~~~~~~~~~~~~~~~~~~~~~~~~~~~~~~~~~~~~~~~~~~~~~~~~~~~~~~~~~~~~~~~~~~~~~~~~~~~~~~~~~~~~~~~~~~ REAL TEXT\n"
     ]
    },
    {
     "data": {
      "text/plain": [
       "[<tf.Tensor: shape=(), dtype=string, numpy=b'bin blue by s seven again'>]"
      ]
     },
     "execution_count": 61,
     "metadata": {},
     "output_type": "execute_result"
    }
   ],
   "source": [
    "print('~'*70, 'REAL TEXT')\n",
    "[tf.strings.reduce_join([num_to_char(word) for word in sentence]) for sentence in [sample[1]]]"
   ]
  },
  {
   "cell_type": "code",
   "execution_count": 64,
   "metadata": {},
   "outputs": [
    {
     "name": "stdout",
     "output_type": "stream",
     "text": [
      "1/1 [==============================] - 7s 7s/step\n"
     ]
    }
   ],
   "source": [
    "yhat = model.predict(tf.expand_dims(sample[0], axis=0))"
   ]
  },
  {
   "cell_type": "code",
   "execution_count": 66,
   "metadata": {},
   "outputs": [
    {
     "data": {
      "text/plain": [
       "(1, 75, 41)"
      ]
     },
     "execution_count": 66,
     "metadata": {},
     "output_type": "execute_result"
    }
   ],
   "source": [
    "yhat.shape"
   ]
  },
  {
   "cell_type": "code",
   "execution_count": 67,
   "metadata": {},
   "outputs": [],
   "source": [
    "decoded = tf.keras.backend.ctc_decode(yhat, input_length=[75], greedy=True)[0][0].numpy()"
   ]
  },
  {
   "cell_type": "code",
   "execution_count": 68,
   "metadata": {},
   "outputs": [
    {
     "name": "stdout",
     "output_type": "stream",
     "text": [
      "~~~~~~~~~~~~~~~~~~~~~~~~~~~~~~~~~~~~~~~~~~~~~~~~~~~~~~~~~~~~~~~~~~~~~~~~~~~~~~~~~~~~~~~~~~~~~~~~~~~~ PREDICTIONS\n"
     ]
    },
    {
     "data": {
      "text/plain": [
       "[<tf.Tensor: shape=(), dtype=string, numpy=b'bin blue by s seven again'>]"
      ]
     },
     "execution_count": 68,
     "metadata": {},
     "output_type": "execute_result"
    }
   ],
   "source": [
    "print('~'*70, 'PREDICTIONS')\n",
    "[tf.strings.reduce_join([num_to_char(word) for word in sentence]) for sentence in decoded]"
   ]
  }
 ],
 "metadata": {
  "kernelspec": {
   "display_name": ".venv",
   "language": "python",
   "name": "python3"
  },
  "language_info": {
   "codemirror_mode": {
    "name": "ipython",
    "version": 3
   },
   "file_extension": ".py",
   "mimetype": "text/x-python",
   "name": "python",
   "nbconvert_exporter": "python",
   "pygments_lexer": "ipython3",
   "version": "3.9.6"
  }
 },
 "nbformat": 4,
 "nbformat_minor": 2
}
